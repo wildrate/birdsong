{
 "cells": [
  {
   "cell_type": "code",
   "metadata": {
    "tags": [],
    "cell_id": "00000-be85b16f-ad34-4cfa-968b-f44f7ea08cca",
    "deepnote_to_be_reexecuted": false,
    "source_hash": "2de0bc20",
    "execution_start": 1622728924694,
    "execution_millis": 1,
    "deepnote_cell_type": "code"
   },
   "source": "# Based on: https://www.tensorflow.org/lite/guide/python\n# And then https://github.com/tensorflow/tensorflow/tree/master/tensorflow/lite/examples/python/",
   "execution_count": null,
   "outputs": []
  },
  {
   "cell_type": "code",
   "metadata": {
    "tags": [],
    "cell_id": "00001-fcc3299e-01a3-429d-bbcc-3e6d18354763",
    "deepnote_to_be_reexecuted": false,
    "source_hash": "b1d59faa",
    "execution_start": 1622728928228,
    "execution_millis": 3943,
    "deepnote_cell_type": "code"
   },
   "source": "!pip3 install --index-url https://google-coral.github.io/py-repo/ tflite_runtime",
   "execution_count": null,
   "outputs": [
    {
     "name": "stdout",
     "text": "Looking in indexes: https://google-coral.github.io/py-repo/\nCollecting tflite_runtime\n  Downloading https://github.com/google-coral/pycoral/releases/download/v1.0.1/tflite_runtime-2.5.0-cp37-cp37m-linux_x86_64.whl (1.2 MB)\n\u001b[K     |████████████████████████████████| 1.2 MB 31.3 MB/s \n\u001b[?25hRequirement already satisfied: numpy>=1.12.1 in /shared-libs/python3.7/py/lib/python3.7/site-packages (from tflite_runtime) (1.19.5)\nInstalling collected packages: tflite-runtime\nSuccessfully installed tflite-runtime-2.5.0\n",
     "output_type": "stream"
    }
   ]
  },
  {
   "cell_type": "code",
   "metadata": {
    "tags": [],
    "cell_id": "00004-8ad926e8-17df-4a08-a6fc-66e45933154c",
    "deepnote_to_be_reexecuted": false,
    "source_hash": "d03b25e0",
    "execution_start": 1622729958534,
    "execution_millis": 5413,
    "deepnote_cell_type": "code"
   },
   "source": "# Get photo\n!curl https://raw.githubusercontent.com/tensorflow/tensorflow/master/tensorflow/lite/examples/label_image/testdata/grace_hopper.bmp > /tmp/grace_hopper.bmp\n# Get model\n!curl https://storage.googleapis.com/download.tensorflow.org/models/mobilenet_v1_2018_02_22/mobilenet_v1_1.0_224.tgz | tar xzv -C /tmp\n# Get labels\n!curl https://storage.googleapis.com/download.tensorflow.org/models/mobilenet_v1_1.0_224_frozen.tgz  | tar xzv -C /tmp  mobilenet_v1_1.0_224/labels.txt\n\n!mv /tmp/mobilenet_v1_1.0_224/labels.txt /tmp/",
   "execution_count": null,
   "outputs": [
    {
     "name": "stdout",
     "text": "  % Total    % Received % Xferd  Average Speed   Time    Time     Time  Current\n                                 Dload  Upload   Total   Spent    Left  Speed\n100  918k  100  918k    0     0  5160k      0 --:--:-- --:--:-- --:--:-- 5160k\n  % Total    % Received % Xferd  Average Speed   Time    Time     Time  Current\n                                 Dload  Upload   Total   Spent    Left  Speed\n  0     0    0     0    0     0      0      0 --:--:-- --:--:-- --:--:--     0./\n./mobilenet_v1_1.0_224.tflite\n 10 89.9M   10 9264k    0     0  19.4M      0  0:00:04 --:--:--  0:00:04 19.4M./mobilenet_v1_1.0_224.ckpt.meta\n./mobilenet_v1_1.0_224.ckpt.index\n./mobilenet_v1_1.0_224.ckpt.data-00000-of-00001\n 49 89.9M   49 44.2M    0     0  30.8M      0  0:00:02  0:00:01  0:00:01 30.8M./mobilenet_v1_1.0_224_info.txt\n./mobilenet_v1_1.0_224_frozen.pb\n100 89.9M  100 89.9M    0     0  41.0M      0  0:00:02  0:00:02 --:--:-- 41.0M\n./mobilenet_v1_1.0_224_eval.pbtxt\n  % Total    % Received % Xferd  Average Speed   Time    Time     Time  Current\n                                 Dload  Upload   Total   Spent    Left  Speed\n  0     0    0     0    0     0      0      0 --:--:-- --:--:-- --:--:--     0mobilenet_v1_1.0_224/labels.txt\n100 18.2M  100 18.2M    0     0  40.6M      0 --:--:-- --:--:-- --:--:-- 40.6M\n",
     "output_type": "stream"
    }
   ]
  },
  {
   "cell_type": "code",
   "metadata": {
    "tags": [],
    "cell_id": "00003-3427b6a1-9915-4bf2-8e6b-1b5f548794fd",
    "deepnote_to_be_reexecuted": false,
    "source_hash": "ce46591c",
    "execution_start": 1622729972044,
    "execution_millis": 3,
    "deepnote_cell_type": "code"
   },
   "source": "model_file = \"/tmp/mobilenet_v1_1.0_224.tflite\"\nlabel_file = \"/tmp/labels.txt\"\nimage_file = \"/tmp/grace_hopper.bmp\"\ninput_mean = 127.5\ninput_std = 127.5",
   "execution_count": null,
   "outputs": []
  },
  {
   "cell_type": "code",
   "metadata": {
    "tags": [],
    "cell_id": "00003-75eede2b-34a7-4907-b699-1d1b3619e64b",
    "deepnote_to_be_reexecuted": false,
    "source_hash": "7055f8e3",
    "execution_start": 1622730084385,
    "execution_millis": 73,
    "deepnote_cell_type": "code"
   },
   "source": "from __future__ import absolute_import\nfrom __future__ import division\nfrom __future__ import print_function\n\nimport argparse\nimport time\n\nimport numpy as np\nfrom PIL import Image\n\nimport tflite_runtime.interpreter as tflite\n\ndef load_labels(filename):\n  with open(filename, 'r') as f:\n    return [line.strip() for line in f.readlines()]\n\n\ninterpreter = tflite.Interpreter(model_path=model_file)\n\ninterpreter.allocate_tensors()\n\ninput_details = interpreter.get_input_details()\noutput_details = interpreter.get_output_details()\n\n# check the type of the input tensor\nfloating_model = input_details[0]['dtype'] == np.float32\n\n# NxHxWxC, H:1, W:2\nheight = input_details[0]['shape'][1]\nwidth = input_details[0]['shape'][2]\nimg = Image.open(image_file).resize((width, height))\n\n# add N dim\ninput_data = np.expand_dims(img, axis=0)\n\nif floating_model:\n  input_data = (np.float32(input_data) - input_mean) / input_std\n\ninterpreter.set_tensor(input_details[0]['index'], input_data)\n\nstart_time = time.time()\ninterpreter.invoke()\nstop_time = time.time()\n\noutput_data = interpreter.get_tensor(output_details[0]['index'])\nresults = np.squeeze(output_data)\n\ntop_k = results.argsort()[-5:][::-1]\nlabels = load_labels(label_file)\nfor i in top_k:\n  if floating_model:\n    print('{:08.6f}: {}'.format(float(results[i]), labels[i]))\n  else:\n    print('{:08.6f}: {}'.format(float(results[i] / 255.0), labels[i]))\n\nprint('time: {:.3f}ms'.format((stop_time - start_time) * 1000))",
   "execution_count": null,
   "outputs": [
    {
     "name": "stdout",
     "text": "0.919720: 653:military uniform\n0.017762: 907:Windsor tie\n0.007507: 668:mortarboard\n0.005419: 466:bulletproof vest\n0.003828: 458:bow tie, bow-tie, bowtie\ntime: 89.157ms\n",
     "output_type": "stream"
    }
   ]
  },
  {
   "cell_type": "markdown",
   "source": "<a style='text-decoration:none;line-height:16px;display:flex;color:#5B5B62;padding:10px;justify-content:end;' href='https://deepnote.com?utm_source=created-in-deepnote-cell&projectId=b5d4c7db-26fd-4ded-b22d-b8b006278bac' target=\"_blank\">\n<img alt='Created in deepnote.com' style='display:inline;max-height:16px;margin:0px;margin-right:7.5px;' src='data:image/svg+xml;base64,PD94bWwgdmVyc2lvbj0iMS4wIiBlbmNvZGluZz0iVVRGLTgiPz4KPHN2ZyB3aWR0aD0iODBweCIgaGVpZ2h0PSI4MHB4IiB2aWV3Qm94PSIwIDAgODAgODAiIHZlcnNpb249IjEuMSIgeG1sbnM9Imh0dHA6Ly93d3cudzMub3JnLzIwMDAvc3ZnIiB4bWxuczp4bGluaz0iaHR0cDovL3d3dy53My5vcmcvMTk5OS94bGluayI+CiAgICA8IS0tIEdlbmVyYXRvcjogU2tldGNoIDU0LjEgKDc2NDkwKSAtIGh0dHBzOi8vc2tldGNoYXBwLmNvbSAtLT4KICAgIDx0aXRsZT5Hcm91cCAzPC90aXRsZT4KICAgIDxkZXNjPkNyZWF0ZWQgd2l0aCBTa2V0Y2guPC9kZXNjPgogICAgPGcgaWQ9IkxhbmRpbmciIHN0cm9rZT0ibm9uZSIgc3Ryb2tlLXdpZHRoPSIxIiBmaWxsPSJub25lIiBmaWxsLXJ1bGU9ImV2ZW5vZGQiPgogICAgICAgIDxnIGlkPSJBcnRib2FyZCIgdHJhbnNmb3JtPSJ0cmFuc2xhdGUoLTEyMzUuMDAwMDAwLCAtNzkuMDAwMDAwKSI+CiAgICAgICAgICAgIDxnIGlkPSJHcm91cC0zIiB0cmFuc2Zvcm09InRyYW5zbGF0ZSgxMjM1LjAwMDAwMCwgNzkuMDAwMDAwKSI+CiAgICAgICAgICAgICAgICA8cG9seWdvbiBpZD0iUGF0aC0yMCIgZmlsbD0iIzAyNjVCNCIgcG9pbnRzPSIyLjM3NjIzNzYyIDgwIDM4LjA0NzY2NjcgODAgNTcuODIxNzgyMiA3My44MDU3NTkyIDU3LjgyMTc4MjIgMzIuNzU5MjczOSAzOS4xNDAyMjc4IDMxLjY4MzE2ODMiPjwvcG9seWdvbj4KICAgICAgICAgICAgICAgIDxwYXRoIGQ9Ik0zNS4wMDc3MTgsODAgQzQyLjkwNjIwMDcsNzYuNDU0OTM1OCA0Ny41NjQ5MTY3LDcxLjU0MjI2NzEgNDguOTgzODY2LDY1LjI2MTk5MzkgQzUxLjExMjI4OTksNTUuODQxNTg0MiA0MS42NzcxNzk1LDQ5LjIxMjIyODQgMjUuNjIzOTg0Niw0OS4yMTIyMjg0IEMyNS40ODQ5Mjg5LDQ5LjEyNjg0NDggMjkuODI2MTI5Niw0My4yODM4MjQ4IDM4LjY0NzU4NjksMzEuNjgzMTY4MyBMNzIuODcxMjg3MSwzMi41NTQ0MjUgTDY1LjI4MDk3Myw2Ny42NzYzNDIxIEw1MS4xMTIyODk5LDc3LjM3NjE0NCBMMzUuMDA3NzE4LDgwIFoiIGlkPSJQYXRoLTIyIiBmaWxsPSIjMDAyODY4Ij48L3BhdGg+CiAgICAgICAgICAgICAgICA8cGF0aCBkPSJNMCwzNy43MzA0NDA1IEwyNy4xMTQ1MzcsMC4yNTcxMTE0MzYgQzYyLjM3MTUxMjMsLTEuOTkwNzE3MDEgODAsMTAuNTAwMzkyNyA4MCwzNy43MzA0NDA1IEM4MCw2NC45NjA0ODgyIDY0Ljc3NjUwMzgsNzkuMDUwMzQxNCAzNC4zMjk1MTEzLDgwIEM0Ny4wNTUzNDg5LDc3LjU2NzA4MDggNTMuNDE4MjY3Nyw3MC4zMTM2MTAzIDUzLjQxODI2NzcsNTguMjM5NTg4NSBDNTMuNDE4MjY3Nyw0MC4xMjg1NTU3IDM2LjMwMzk1NDQsMzcuNzMwNDQwNSAyNS4yMjc0MTcsMzcuNzMwNDQwNSBDMTcuODQzMDU4NiwzNy43MzA0NDA1IDkuNDMzOTE5NjYsMzcuNzMwNDQwNSAwLDM3LjczMDQ0MDUgWiIgaWQ9IlBhdGgtMTkiIGZpbGw9IiMzNzkzRUYiPjwvcGF0aD4KICAgICAgICAgICAgPC9nPgogICAgICAgIDwvZz4KICAgIDwvZz4KPC9zdmc+' > </img>\nCreated in <span style='font-weight:600;margin-left:4px;'>Deepnote</span></a>",
   "metadata": {
    "tags": [],
    "created_in_deepnote_cell": true,
    "deepnote_cell_type": "markdown"
   }
  }
 ],
 "nbformat": 4,
 "nbformat_minor": 2,
 "metadata": {
  "orig_nbformat": 2,
  "deepnote": {
   "is_reactive": false
  },
  "deepnote_notebook_id": "dce6aefe-7703-4ab0-93ec-2144cd9f2263",
  "deepnote_execution_queue": []
 }
}