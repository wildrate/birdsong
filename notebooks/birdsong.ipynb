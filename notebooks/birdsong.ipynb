{
  "nbformat": 4,
  "nbformat_minor": 0,
  "metadata": {
    "orig_nbformat": 2,
    "deepnote": {
      "is_reactive": false
    },
    "deepnote_notebook_id": "dce6aefe-7703-4ab0-93ec-2144cd9f2263",
    "deepnote_execution_queue": [],
    "colab": {
      "name": "birdsong.ipynb",
      "provenance": []
    },
    "language_info": {
      "name": "python"
    },
    "kernelspec": {
      "name": "python3",
      "display_name": "Python 3"
    }
  },
  "cells": [
    {
      "cell_type": "code",
      "metadata": {
        "tags": [],
        "cell_id": "00000-be85b16f-ad34-4cfa-968b-f44f7ea08cca",
        "deepnote_to_be_reexecuted": false,
        "source_hash": "2de0bc20",
        "execution_start": 1622728924694,
        "execution_millis": 1,
        "deepnote_cell_type": "code",
        "id": "5ZlacYIWCqWM"
      },
      "source": [
        "# Based on: https://www.tensorflow.org/lite/guide/python\n",
        "# And then https://github.com/tensorflow/tensorflow/tree/master/tensorflow/lite/examples/python/"
      ],
      "execution_count": 1,
      "outputs": []
    },
    {
      "cell_type": "code",
      "metadata": {
        "tags": [],
        "cell_id": "00001-fcc3299e-01a3-429d-bbcc-3e6d18354763",
        "deepnote_to_be_reexecuted": false,
        "source_hash": "b1d59faa",
        "execution_start": 1622728928228,
        "execution_millis": 3943,
        "deepnote_cell_type": "code",
        "id": "ZyUPqzP1CqWP",
        "outputId": "7148e0cf-1868-43c5-f081-b30837291d64",
        "colab": {
          "base_uri": "https://localhost:8080/"
        }
      },
      "source": [
        "!pip3 install --index-url https://google-coral.github.io/py-repo/ tflite_runtime"
      ],
      "execution_count": 2,
      "outputs": [
        {
          "output_type": "stream",
          "name": "stdout",
          "text": [
            "Looking in indexes: https://google-coral.github.io/py-repo/\n",
            "Collecting tflite_runtime\n",
            "  Downloading https://github.com/google-coral/pycoral/releases/download/v2.0.0/tflite_runtime-2.5.0.post1-cp37-cp37m-linux_x86_64.whl (1.5 MB)\n",
            "\u001b[K     |████████████████████████████████| 1.5 MB 14.4 MB/s \n",
            "\u001b[?25hRequirement already satisfied: numpy>=1.16.0 in /usr/local/lib/python3.7/dist-packages (from tflite_runtime) (1.19.5)\n",
            "Installing collected packages: tflite-runtime\n",
            "Successfully installed tflite-runtime-2.5.0.post1\n"
          ]
        }
      ]
    },
    {
      "cell_type": "code",
      "metadata": {
        "tags": [],
        "cell_id": "00004-8ad926e8-17df-4a08-a6fc-66e45933154c",
        "deepnote_to_be_reexecuted": false,
        "source_hash": "d03b25e0",
        "execution_start": 1622729958534,
        "execution_millis": 5413,
        "deepnote_cell_type": "code",
        "id": "7entper4CqWQ",
        "outputId": "56fcbeeb-735d-4052-acde-5437c4c74e6c",
        "colab": {
          "base_uri": "https://localhost:8080/"
        }
      },
      "source": [
        "# Get photo\n",
        "!curl https://raw.githubusercontent.com/tensorflow/tensorflow/master/tensorflow/lite/examples/label_image/testdata/grace_hopper.bmp > /tmp/grace_hopper.bmp\n",
        "# Get model\n",
        "!curl https://storage.googleapis.com/download.tensorflow.org/models/mobilenet_v1_2018_02_22/mobilenet_v1_1.0_224.tgz | tar xzv -C /tmp\n",
        "# Get labels\n",
        "!curl https://storage.googleapis.com/download.tensorflow.org/models/mobilenet_v1_1.0_224_frozen.tgz  | tar xzv -C /tmp  mobilenet_v1_1.0_224/labels.txt\n",
        "\n",
        "!mv /tmp/mobilenet_v1_1.0_224/labels.txt /tmp/"
      ],
      "execution_count": 3,
      "outputs": [
        {
          "output_type": "stream",
          "name": "stdout",
          "text": [
            "  % Total    % Received % Xferd  Average Speed   Time    Time     Time  Current\n",
            "                                 Dload  Upload   Total   Spent    Left  Speed\n",
            "100  918k  100  918k    0     0  3506k      0 --:--:-- --:--:-- --:--:-- 3506k\n",
            "  % Total    % Received % Xferd  Average Speed   Time    Time     Time  Current\n",
            "                                 Dload  Upload   Total   Spent    Left  Speed\n",
            "  0     0    0     0    0     0      0      0 --:--:-- --:--:-- --:--:--     0./\n",
            "./mobilenet_v1_1.0_224.tflite\n",
            "  5 89.9M    5 4904k    0     0  6582k      0  0:00:13 --:--:--  0:00:13 6573k./mobilenet_v1_1.0_224.ckpt.meta\n",
            "./mobilenet_v1_1.0_224.ckpt.index\n",
            "./mobilenet_v1_1.0_224.ckpt.data-00000-of-00001\n",
            " 26 89.9M   26 24.0M    0     0  13.8M      0  0:00:06  0:00:01  0:00:05 13.8M./mobilenet_v1_1.0_224_info.txt\n",
            "./mobilenet_v1_1.0_224_frozen.pb\n",
            "100 89.9M  100 89.9M    0     0  31.5M      0  0:00:02  0:00:02 --:--:-- 31.4M\n",
            "./mobilenet_v1_1.0_224_eval.pbtxt\n",
            "  % Total    % Received % Xferd  Average Speed   Time    Time     Time  Current\n",
            "                                 Dload  Upload   Total   Spent    Left  Speed\n",
            "  0 18.2M    0  132k    0     0   158k      0  0:01:58 --:--:--  0:01:58  158kmobilenet_v1_1.0_224/labels.txt\n",
            "100 18.2M  100 18.2M    0     0  11.6M      0  0:00:01  0:00:01 --:--:-- 11.6M\n"
          ]
        }
      ]
    },
    {
      "cell_type": "code",
      "metadata": {
        "tags": [],
        "cell_id": "00003-3427b6a1-9915-4bf2-8e6b-1b5f548794fd",
        "deepnote_to_be_reexecuted": false,
        "source_hash": "ce46591c",
        "execution_start": 1622729972044,
        "execution_millis": 3,
        "deepnote_cell_type": "code",
        "id": "rCldNMx9CqWR"
      },
      "source": [
        "model_file = \"/tmp/mobilenet_v1_1.0_224.tflite\"\n",
        "label_file = \"/tmp/labels.txt\"\n",
        "image_file = \"/tmp/grace_hopper.bmp\"\n",
        "input_mean = 127.5\n",
        "input_std = 127.5"
      ],
      "execution_count": 4,
      "outputs": []
    },
    {
      "cell_type": "code",
      "metadata": {
        "tags": [],
        "cell_id": "00003-75eede2b-34a7-4907-b699-1d1b3619e64b",
        "deepnote_to_be_reexecuted": false,
        "source_hash": "7055f8e3",
        "execution_start": 1622730084385,
        "execution_millis": 73,
        "deepnote_cell_type": "code",
        "id": "zUJAgy8uCqWR",
        "outputId": "657e251f-4c70-4bc4-cd19-6baaac9a1419",
        "colab": {
          "base_uri": "https://localhost:8080/"
        }
      },
      "source": [
        "from __future__ import absolute_import\n",
        "from __future__ import division\n",
        "from __future__ import print_function\n",
        "\n",
        "import argparse\n",
        "import time\n",
        "\n",
        "import numpy as np\n",
        "from PIL import Image\n",
        "\n",
        "import tflite_runtime.interpreter as tflite\n",
        "\n",
        "def load_labels(filename):\n",
        "  with open(filename, 'r') as f:\n",
        "    return [line.strip() for line in f.readlines()]\n",
        "\n",
        "\n",
        "interpreter = tflite.Interpreter(model_path=model_file)\n",
        "\n",
        "interpreter.allocate_tensors()\n",
        "\n",
        "input_details = interpreter.get_input_details()\n",
        "output_details = interpreter.get_output_details()\n",
        "\n",
        "# check the type of the input tensor\n",
        "floating_model = input_details[0]['dtype'] == np.float32\n",
        "\n",
        "# NxHxWxC, H:1, W:2\n",
        "height = input_details[0]['shape'][1]\n",
        "width = input_details[0]['shape'][2]\n",
        "img = Image.open(image_file).resize((width, height))\n",
        "\n",
        "# add N dim\n",
        "input_data = np.expand_dims(img, axis=0)\n",
        "\n",
        "if floating_model:\n",
        "  input_data = (np.float32(input_data) - input_mean) / input_std\n",
        "\n",
        "interpreter.set_tensor(input_details[0]['index'], input_data)\n",
        "\n",
        "start_time = time.time()\n",
        "interpreter.invoke()\n",
        "stop_time = time.time()\n",
        "\n",
        "output_data = interpreter.get_tensor(output_details[0]['index'])\n",
        "results = np.squeeze(output_data)\n",
        "\n",
        "top_k = results.argsort()[-5:][::-1]\n",
        "labels = load_labels(label_file)\n",
        "for i in top_k:\n",
        "  if floating_model:\n",
        "    print('{:08.6f}: {}'.format(float(results[i]), labels[i]))\n",
        "  else:\n",
        "    print('{:08.6f}: {}'.format(float(results[i] / 255.0), labels[i]))\n",
        "\n",
        "print('time: {:.3f}ms'.format((stop_time - start_time) * 1000))"
      ],
      "execution_count": 6,
      "outputs": [
        {
          "output_type": "stream",
          "name": "stdout",
          "text": [
            "0.919721: 653:military uniform\n",
            "0.017762: 907:Windsor tie\n",
            "0.007507: 668:mortarboard\n",
            "0.005419: 466:bulletproof vest\n",
            "0.003828: 458:bow tie, bow-tie, bowtie\n",
            "time: 113.866ms\n"
          ]
        }
      ]
    },
    {
      "cell_type": "code",
      "metadata": {
        "id": "ytJF7D7REAVr",
        "outputId": "fdce3085-4f6e-4bcd-c23f-c0a7f79be8eb",
        "colab": {
          "base_uri": "https://localhost:8080/",
          "height": 231
        }
      },
      "source": [
        "# Save the model\n",
        "import tensorflow as tf\n",
        "\n",
        "# Convert the model to the TensorFlow Lite format without quantization\n",
        "converter = tf.lite.TFLiteConverter.from_keras_model(model_2)\n",
        "tflite_model = converter.convert()\n",
        "\n",
        "# Save the model to disk\n",
        "open(\"sine_model.tflite\", \"wb\").write(tflite_model)\n",
        "\n",
        "# Convert the model to the TensorFlow Lite format with quantization\n",
        "converter = tf.lite.TFLiteConverter.from_keras_model(model_2)\n",
        "# Indicate that we want to perform the default optimizations,\n",
        "# which include quantization\n",
        "converter.optimizations = [tf.lite.Optimize.DEFAULT]\n",
        "# Define a generator function that provides our test data's x values\n",
        "# as a representative dataset, and tell the converter to use it\n",
        "def representative_dataset_generator():\n",
        "  for value in x_test:\n",
        "    # Each scalar value must be inside of a 2D array that is wrapped in a list\n",
        "    yield [np.array(value, dtype=np.float32, ndmin=2)]\n",
        "converter.representative_dataset = representative_dataset_generator\n",
        "# Convert the model\n",
        "tflite_model = converter.convert()\n",
        "\n",
        "# Save the model to disk\n",
        "open(\"sine_model_quantized.tflite\", \"wb\").write(tflite_model)"
      ],
      "execution_count": 8,
      "outputs": [
        {
          "output_type": "error",
          "ename": "NameError",
          "evalue": "ignored",
          "traceback": [
            "\u001b[0;31m---------------------------------------------------------------------------\u001b[0m",
            "\u001b[0;31mNameError\u001b[0m                                 Traceback (most recent call last)",
            "\u001b[0;32m<ipython-input-8-8cf71051c5fd>\u001b[0m in \u001b[0;36m<module>\u001b[0;34m()\u001b[0m\n\u001b[1;32m      3\u001b[0m \u001b[0;34m\u001b[0m\u001b[0m\n\u001b[1;32m      4\u001b[0m \u001b[0;31m# Convert the model to the TensorFlow Lite format without quantization\u001b[0m\u001b[0;34m\u001b[0m\u001b[0;34m\u001b[0m\u001b[0;34m\u001b[0m\u001b[0m\n\u001b[0;32m----> 5\u001b[0;31m \u001b[0mconverter\u001b[0m \u001b[0;34m=\u001b[0m \u001b[0mtf\u001b[0m\u001b[0;34m.\u001b[0m\u001b[0mlite\u001b[0m\u001b[0;34m.\u001b[0m\u001b[0mTFLiteConverter\u001b[0m\u001b[0;34m.\u001b[0m\u001b[0mfrom_keras_model\u001b[0m\u001b[0;34m(\u001b[0m\u001b[0mmodel_2\u001b[0m\u001b[0;34m)\u001b[0m\u001b[0;34m\u001b[0m\u001b[0;34m\u001b[0m\u001b[0m\n\u001b[0m\u001b[1;32m      6\u001b[0m \u001b[0mtflite_model\u001b[0m \u001b[0;34m=\u001b[0m \u001b[0mconverter\u001b[0m\u001b[0;34m.\u001b[0m\u001b[0mconvert\u001b[0m\u001b[0;34m(\u001b[0m\u001b[0;34m)\u001b[0m\u001b[0;34m\u001b[0m\u001b[0;34m\u001b[0m\u001b[0m\n\u001b[1;32m      7\u001b[0m \u001b[0;34m\u001b[0m\u001b[0m\n",
            "\u001b[0;31mNameError\u001b[0m: name 'model_2' is not defined"
          ]
        }
      ]
    },
    {
      "cell_type": "markdown",
      "metadata": {
        "tags": [],
        "created_in_deepnote_cell": true,
        "deepnote_cell_type": "markdown",
        "id": "4VVkb0c4CqWS"
      },
      "source": [
        "<a style='text-decoration:none;line-height:16px;display:flex;color:#5B5B62;padding:10px;justify-content:end;' href='https://deepnote.com?utm_source=created-in-deepnote-cell&projectId=b5d4c7db-26fd-4ded-b22d-b8b006278bac' target=\"_blank\">\n",
        "<img alt='Created in deepnote.com' style='display:inline;max-height:16px;margin:0px;margin-right:7.5px;' src='data:image/svg+xml;base64,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' > </img>\n",
        "Created in <span style='font-weight:600;margin-left:4px;'>Deepnote</span></a>"
      ]
    }
  ]
}